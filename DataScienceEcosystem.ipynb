{
 "cells": [
  {
   "cell_type": "markdown",
   "id": "e24775b1-99b8-44a4-9be8-f6d225d409b9",
   "metadata": {},
   "source": [
    "# Data Science Tools and Ecosystem"
   ]
  },
  {
   "cell_type": "markdown",
   "id": "7addd0c9-620d-4162-96df-86b7398a73c1",
   "metadata": {},
   "source": [
    "In this Jupyter Notebook, Data Science Tools and Ecosystems are summarized"
   ]
  },
  {
   "cell_type": "markdown",
   "id": "c31d4ae0-a682-433b-9913-6d3602f7271e",
   "metadata": {},
   "source": [
    "**Objectives:**\n",
    "- Popular Data Science Languages\n",
    "- Commonly Used Data Science Libraries\n",
    "- Data Science Tools\n",
    "  "
   ]
  },
  {
   "cell_type": "markdown",
   "id": "21f0df96-72de-4273-a951-e75bec511782",
   "metadata": {},
   "source": [
    "## Author\n",
    "Dan S."
   ]
  },
  {
   "cell_type": "markdown",
   "id": "f9a6b698-02dc-408e-ab5b-ab135dc16aa9",
   "metadata": {},
   "source": [
    "Popular languages that Data Scientists use are:\n",
    "1. Python \n",
    "2. R \n",
    "3. JavaScript\n",
    "4. MatLab"
   ]
  },
  {
   "cell_type": "markdown",
   "id": "44e707da-9426-4711-8148-4cace163ad07",
   "metadata": {},
   "source": [
    "Commonly used libraries used by Data Scientists include:\n",
    "1. Jupyter Notebook\n",
    "2. Pandas\n",
    "3. Numpy\n",
    "4. SciPy"
   ]
  },
  {
   "cell_type": "markdown",
   "id": "344a28a1-a4cd-4034-b789-486a90c77703",
   "metadata": {},
   "source": [
    " Data Science Tools |\n",
    "---------------------|\n",
    " Apache Spark |\n",
    " Apache Hadoop |\n",
    " TensorFlow |"
   ]
  },
  {
   "cell_type": "markdown",
   "id": "c35897e6-097e-4439-aa5c-6fb111844dab",
   "metadata": {},
   "source": [
    "### Below are a few examples of evaluating arithmetic expression in Python: "
   ]
  },
  {
   "cell_type": "code",
   "execution_count": 3,
   "id": "3a9d40c2-5398-4897-9d3c-f676c1fed138",
   "metadata": {},
   "outputs": [
    {
     "data": {
      "text/plain": [
       "17"
      ]
     },
     "execution_count": 3,
     "metadata": {},
     "output_type": "execute_result"
    }
   ],
   "source": [
    "#This a simple arithmetic expression to mutiply then add integers\n",
    "(3*4)+5"
   ]
  },
  {
   "cell_type": "code",
   "execution_count": 4,
   "id": "608a38c8-b18f-43ea-85fb-bc6f0f30be6c",
   "metadata": {},
   "outputs": [
    {
     "data": {
      "text/plain": [
       "3.3333333333333335"
      ]
     },
     "execution_count": 4,
     "metadata": {},
     "output_type": "execute_result"
    }
   ],
   "source": [
    "#This will convert 200 minutes to hours by diving by 60\n",
    "200/60"
   ]
  },
  {
   "cell_type": "code",
   "execution_count": null,
   "id": "524329dc-1554-4efa-9ac3-28b559ec0345",
   "metadata": {},
   "outputs": [],
   "source": []
  }
 ],
 "metadata": {
  "kernelspec": {
   "display_name": "Python 3 (ipykernel)",
   "language": "python",
   "name": "python3"
  },
  "language_info": {
   "codemirror_mode": {
    "name": "ipython",
    "version": 3
   },
   "file_extension": ".py",
   "mimetype": "text/x-python",
   "name": "python",
   "nbconvert_exporter": "python",
   "pygments_lexer": "ipython3",
   "version": "3.12.8"
  }
 },
 "nbformat": 4,
 "nbformat_minor": 5
}
